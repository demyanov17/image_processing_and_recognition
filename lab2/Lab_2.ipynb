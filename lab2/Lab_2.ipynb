{
 "cells": [
  {
   "cell_type": "code",
   "execution_count": 125,
   "metadata": {},
   "outputs": [],
   "source": [
    "import os\n",
    "import numpy as np\n",
    "import cv2\n",
    "import mediapipe as mp\n",
    "import math"
   ]
  },
  {
   "cell_type": "code",
   "execution_count": 126,
   "metadata": {},
   "outputs": [],
   "source": [
    "images_dir = \"./Training/\"\n",
    "file_list = os.listdir(images_dir)\n",
    "file_list.sort(key=lambda a:int(a[:-4]))"
   ]
  },
  {
   "cell_type": "code",
   "execution_count": 127,
   "metadata": {},
   "outputs": [
    {
     "data": {
      "text/plain": [
       "True"
      ]
     },
     "execution_count": 127,
     "metadata": {},
     "output_type": "execute_result"
    }
   ],
   "source": [
    "primer = cv2.imread(images_dir + file_list[1])\n",
    "train_image = cv2.imread(images_dir + file_list[3])\n",
    "cv2.imwrite(\"/Users/ivandemyanov/Desktop/primer.jpg\", primer)\n",
    "cv2.imwrite(\"/Users/ivandemyanov/Desktop/tr.jpg\", train_image)"
   ]
  },
  {
   "cell_type": "markdown",
   "metadata": {},
   "source": [
    "### Определение точек, образующих линию пальцев"
   ]
  },
  {
   "cell_type": "code",
   "execution_count": 303,
   "metadata": {},
   "outputs": [],
   "source": [
    "def get_handList_and_image(image_path):\n",
    "    \n",
    "    image = cv2.imread(image_path)\n",
    "    mp_Hands = mp.solutions.hands\n",
    "    hands = mp_Hands.Hands()\n",
    "    \n",
    "    RGB_image = cv2.cvtColor(image, cv2.COLOR_BGR2RGB)\n",
    "    results = hands.process(RGB_image)\n",
    "    multiLandMarks = results.multi_hand_landmarks\n",
    "    if multiLandMarks:\n",
    "        handList = []\n",
    "        for handLms in multiLandMarks:\n",
    "            for idx, lm in enumerate(handLms.landmark):\n",
    "                h, w, c = image.shape\n",
    "                cx, cy = int(lm.x * w), int(lm.y * h)\n",
    "                handList.append((cx, cy))\n",
    "    if multiLandMarks:\n",
    "        handList = []\n",
    "        for handLms in multiLandMarks:\n",
    "            for idx, lm in enumerate(handLms.landmark):\n",
    "                h, w, c = image.shape\n",
    "                cx, cy = int(lm.x * w), int(lm.y * h)\n",
    "                handList.append((cx, cy))\n",
    "    return handList, image"
   ]
  },
  {
   "cell_type": "code",
   "execution_count": 304,
   "metadata": {},
   "outputs": [],
   "source": [
    "def make_actual_dots_list(dots_list):\n",
    "    actual_dots_list = []\n",
    "    actual_dots_list.append(dots_list[4])\n",
    "    actual_dots_list.append(((dots_list[1][0] + dots_list[5][0]) // 2, (dots_list[1][1] + dots_list[5][1]) // 2))\n",
    "    actual_dots_list.append(dots_list[8])\n",
    "    actual_dots_list.append(((dots_list[5][0] + dots_list[9][0]) // 2, (dots_list[5][1] + dots_list[9][1]) // 2))\n",
    "    actual_dots_list.append(dots_list[12])\n",
    "    actual_dots_list.append(((dots_list[9][0] + dots_list[13][0]) // 2, (dots_list[9][1] + dots_list[13][1]) // 2))\n",
    "    actual_dots_list.append(dots_list[16])\n",
    "    actual_dots_list.append(((dots_list[13][0] + dots_list[17][0]) // 2, (dots_list[13][1] + dots_list[17][1]) // 2))\n",
    "    actual_dots_list.append(dots_list[20])\n",
    "    return actual_dots_list"
   ]
  },
  {
   "cell_type": "code",
   "execution_count": 305,
   "metadata": {},
   "outputs": [],
   "source": [
    "def draw_circles(image, hand_lst):\n",
    "    for dot in hand_lst:\n",
    "        center_coordinates = dot\n",
    "        radius, color = 5, (255, 0, 0)\n",
    "        thickness = 2\n",
    "        image = cv2.circle(image, center_coordinates, radius, color, thickness)\n",
    "    return image"
   ]
  },
  {
   "cell_type": "code",
   "execution_count": 306,
   "metadata": {},
   "outputs": [],
   "source": [
    "def draw_lines(image, hand_lst):\n",
    "    for i in range(8):\n",
    "        start_point = hand_lst[i]\n",
    "        end_point = hand_lst[i+1]\n",
    "        color = (0, 255, 0)\n",
    "        thickness = 2\n",
    "        image = cv2.line(image, start_point, end_point, color, thickness)\n",
    "    return image"
   ]
  },
  {
   "cell_type": "code",
   "execution_count": 316,
   "metadata": {},
   "outputs": [],
   "source": [
    "handList, img = get_handList_and_image(images_dir + file_list[15])\n",
    "act_handList = make_actual_dots_list(handList)\n",
    "img = draw_circles(img, act_handList)\n",
    "img = draw_lines(img, act_handList)"
   ]
  },
  {
   "cell_type": "code",
   "execution_count": 317,
   "metadata": {},
   "outputs": [
    {
     "data": {
      "text/plain": [
       "True"
      ]
     },
     "execution_count": 317,
     "metadata": {},
     "output_type": "execute_result"
    }
   ],
   "source": [
    "cv2.imwrite(\"/Users/ivandemyanov/Desktop/val14.jpg\", img)"
   ]
  },
  {
   "cell_type": "markdown",
   "metadata": {},
   "source": [
    "### Определение позы ладони"
   ]
  },
  {
   "cell_type": "code",
   "execution_count": 330,
   "metadata": {},
   "outputs": [
    {
     "data": {
      "text/plain": [
       "True"
      ]
     },
     "execution_count": 330,
     "metadata": {},
     "output_type": "execute_result"
    }
   ],
   "source": [
    "image = cv2.imread(\"./Training/\" + file_list[11])\n",
    "cv2.imwrite(\"/Users/ivandemyanov/Desktop/val24.jpg\", image)"
   ]
  },
  {
   "cell_type": "code",
   "execution_count": 328,
   "metadata": {},
   "outputs": [],
   "source": [
    "def make_vectors(a, b, c):\n",
    "    return (a[0] - b[0], a[1] - b[1]), (c[0] - b[0], c[1] - b[1])\n",
    "\n",
    "def pose_definition(act_hand_List):\n",
    "    \n",
    "    p12 = make_vectors(act_hand_List[0], act_hand_List[1], act_hand_List[2])\n",
    "    p23 = make_vectors(act_hand_List[2], act_hand_List[3], act_hand_List[4])\n",
    "    p34 = make_vectors(act_hand_List[4], act_hand_List[5], act_hand_List[6])\n",
    "    p45 = make_vectors(act_hand_List[6], act_hand_List[7], act_hand_List[8])\n",
    "    \n",
    "    return '1'+big_finger_pose_predict(p12[0], p12[1])+'2'+pose_predict(p23[0], p23[1])+'3'+\\\n",
    "        pose_predict(p34[0], p34[1])+'4'+pose_predict(p45[0], p45[1])+'5'\n",
    "\n",
    "def find_angle(a, b):\n",
    "    m1, m2 = np.sqrt(a[0]**2 + a[1]**2), np.sqrt(b[0]**2 + b[1]**2)\n",
    "    angl = np.arccos((a[0]*b[0] + a[1]*b[1]) / (m1 * m2))\n",
    "    return angl\n",
    "    \n",
    "def big_finger_pose_predict(a, b):\n",
    "    angl = find_angle(a, b)\n",
    "    if angl < (math.pi / 180) * 39:\n",
    "        return '+'\n",
    "    return '-'\n",
    "\n",
    "def pose_predict(a, b):\n",
    "    angl = find_angle(a, b)\n",
    "    if angl < (math.pi / 180) * 25:\n",
    "        return '+'\n",
    "    return '-'"
   ]
  },
  {
   "cell_type": "code",
   "execution_count": 331,
   "metadata": {},
   "outputs": [
    {
     "data": {
      "text/plain": [
       "'1-2-3-4+5'"
      ]
     },
     "execution_count": 331,
     "metadata": {},
     "output_type": "execute_result"
    }
   ],
   "source": [
    "handList, img = get_handList_and_image(images_dir + file_list[11])\n",
    "act_handList = make_actual_dots_list(handList)\n",
    "pose_definition(act_handList)"
   ]
  },
  {
   "cell_type": "markdown",
   "metadata": {},
   "source": [
    "### Запись результатов в файл"
   ]
  },
  {
   "cell_type": "code",
   "execution_count": 335,
   "metadata": {},
   "outputs": [],
   "source": [
    "f = open('Results.txt', 'w')\n",
    "for file in file_list:\n",
    "    handList, img = get_handList_and_image(images_dir + file)\n",
    "    act_handList = make_actual_dots_list(handList)\n",
    "    f.write(pose_definition(act_handList) + '\\n')\n",
    "    string = ('!,'+file+',T '+str(act_handList[0][0])+' '+str(act_handList[0][1])+',T '+\n",
    "         str(act_handList[2][0])+' '+str(act_handList[2][1])+',T '+\n",
    "         str(act_handList[4][0])+' '+str(act_handList[4][1])+',T '+\n",
    "         str(act_handList[6][0])+' '+str(act_handList[6][1])+',T '+\n",
    "         str(act_handList[8][0])+' '+str(act_handList[8][1])+',V '+\n",
    "         str(act_handList[1][0])+' '+str(act_handList[1][1])+',V '+\n",
    "         str(act_handList[3][0])+' '+str(act_handList[3][1])+',V '+\n",
    "         str(act_handList[5][0])+' '+str(act_handList[5][1])+',V '+\n",
    "         str(act_handList[7][0])+' '+str(act_handList[7][1])+',?')\n",
    "    f.write(string + '\\n')\n",
    "f.close()"
   ]
  }
 ],
 "metadata": {
  "kernelspec": {
   "display_name": "Python 3",
   "language": "python",
   "name": "python3"
  },
  "language_info": {
   "codemirror_mode": {
    "name": "ipython",
    "version": 3
   },
   "file_extension": ".py",
   "mimetype": "text/x-python",
   "name": "python",
   "nbconvert_exporter": "python",
   "pygments_lexer": "ipython3",
   "version": "3.8.3"
  }
 },
 "nbformat": 4,
 "nbformat_minor": 4
}
