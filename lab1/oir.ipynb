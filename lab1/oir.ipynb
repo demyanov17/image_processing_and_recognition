{
 "cells": [
  {
   "cell_type": "code",
   "execution_count": 677,
   "metadata": {},
   "outputs": [],
   "source": [
    "import os\n",
    "import numpy as np\n",
    "from skimage import io, morphology\n",
    "import cv2"
   ]
  },
  {
   "cell_type": "code",
   "execution_count": 18,
   "metadata": {},
   "outputs": [],
   "source": [
    "images_dir = \"/Users/ivandemyanov/Desktop/Образцы/\"\n",
    "file_list = os.listdir(images_dir)\n",
    "file_list.sort(key=lambda a:int(a[:-4].split('_')[1]))"
   ]
  },
  {
   "cell_type": "code",
   "execution_count": 277,
   "metadata": {},
   "outputs": [
    {
     "data": {
      "text/plain": [
       "True"
      ]
     },
     "execution_count": 277,
     "metadata": {},
     "output_type": "execute_result"
    }
   ],
   "source": [
    "primer = cv2.imread(images_dir + file_list[1])\n",
    "train_image = cv2.imread(images_dir + file_list[3])\n",
    "cv2.imwrite(\"/Users/ivandemyanov/Desktop/pr.jpg\", primer)\n",
    "cv2.imwrite(\"/Users/ivandemyanov/Desktop/tr.jpg\", train_image)"
   ]
  },
  {
   "cell_type": "markdown",
   "metadata": {},
   "source": [
    "### Обработка"
   ]
  },
  {
   "cell_type": "code",
   "execution_count": 862,
   "metadata": {},
   "outputs": [],
   "source": [
    "def image_processing(image_path):\n",
    "\n",
    "    train_image = cv2.imread(image_path, cv2.IMREAD_GRAYSCALE)\n",
    "    norm_img= cv2.normalize(train_image, None, alpha=0, beta=255, norm_type=cv2.NORM_MINMAX, dtype=cv2.CV_8UC1)\n",
    "    canny = cv2.Canny(norm_img,80,135)\n",
    "    \n",
    "    kernel = np.ones((3,3))\n",
    "    dilated = cv2.dilate(canny, kernel) \n",
    "    closed = cv2.morphologyEx(dilated, cv2.MORPH_CLOSE, kernel)\n",
    "    \n",
    "    arr = closed > 0\n",
    "    cleaned = morphology.remove_small_objects(arr, min_size=100)\n",
    "    cleaned = morphology.remove_small_holes(cleaned, 100)\n",
    "    \n",
    "    return cleaned * 255"
   ]
  },
  {
   "cell_type": "markdown",
   "metadata": {},
   "source": [
    "### Нахождение формы"
   ]
  },
  {
   "cell_type": "code",
   "execution_count": 863,
   "metadata": {},
   "outputs": [],
   "source": [
    "def find_figures_contours(image):\n",
    "\n",
    "    contours, hierarchy = cv2.findContours(image.astype(np.uint8), cv2.RETR_CCOMP, cv2.CHAIN_APPROX_NONE)\n",
    "    \n",
    "    l = []\n",
    "    for c in contours:\n",
    "        if cv2.contourArea(c) > 1000 and cv2.contourArea(c) < 5000:\n",
    "            l.append(c)\n",
    "    \n",
    "    a = np.zeros(image.shape)\n",
    "    for i in l:\n",
    "        for j in i:\n",
    "            for z in j:\n",
    "                a[z[1], z[0]] = 255\n",
    "    a = a.astype(np.uint8)\n",
    "    \n",
    "    contours, hierarchy = cv2.findContours(a, cv2.RETR_EXTERNAL, cv2.CHAIN_APPROX_NONE)\n",
    "    return contours"
   ]
  },
  {
   "cell_type": "code",
   "execution_count": 1267,
   "metadata": {},
   "outputs": [],
   "source": [
    "def find_card_contours(image):\n",
    "  \n",
    "    contours, hierarchy = cv2.findContours(image.astype(np.uint8), cv2.RETR_EXTERNAL, cv2.CHAIN_APPROX_NONE)\n",
    "    return contours"
   ]
  },
  {
   "cell_type": "code",
   "execution_count": 1278,
   "metadata": {},
   "outputs": [
    {
     "data": {
      "text/plain": [
       "True"
      ]
     },
     "execution_count": 1278,
     "metadata": {},
     "output_type": "execute_result"
    }
   ],
   "source": [
    "train_image = cv2.imread(images_dir + 'IMG_6.jpg')\n",
    "contours = find_card_contours(image_processing(images_dir + 'IMG_6.jpg'))\n",
    "cv2.imwrite(\"/Users/ivandemyanov/Desktop/new.jpg\", train_image)"
   ]
  },
  {
   "cell_type": "markdown",
   "metadata": {},
   "source": [
    "### Разметка "
   ]
  },
  {
   "cell_type": "code",
   "execution_count": 1279,
   "metadata": {},
   "outputs": [],
   "source": [
    "def beg_marks(contours, train_image):\n",
    "    i = 0\n",
    "    cv2.drawContours(train_image, contours,-1,(0,255,0),3)\n",
    "    for cnt in contours:\n",
    "        M = cv2.moments(cnt)\n",
    "        cX = int(M[\"m10\"] / M[\"m00\"])\n",
    "        cY = int(M[\"m01\"] / M[\"m00\"])\n",
    "        org = cX, cY\n",
    "        color = (0, 255, 255)\n",
    "        thickness = 2\n",
    "        i += 1\n",
    "        train_image = cv2.putText(train_image, '#' + str(i), org, cv2.FONT_HERSHEY_SIMPLEX,\n",
    "                                     1, color, thickness, cv2.LINE_AA)\n",
    "    return train_image"
   ]
  },
  {
   "cell_type": "code",
   "execution_count": 1280,
   "metadata": {},
   "outputs": [
    {
     "data": {
      "text/plain": [
       "True"
      ]
     },
     "execution_count": 1280,
     "metadata": {},
     "output_type": "execute_result"
    }
   ],
   "source": [
    "cv2.imwrite(\"/Users/ivandemyanov/Desktop/pred1.jpg\", beg_marks(contours, train_image))"
   ]
  },
  {
   "cell_type": "code",
   "execution_count": 767,
   "metadata": {},
   "outputs": [
    {
     "data": {
      "text/plain": [
       "True"
      ]
     },
     "execution_count": 767,
     "metadata": {},
     "output_type": "execute_result"
    }
   ],
   "source": [
    "cv2.imwrite(\"/Users/ivandemyanov/Desktop/new.jpg\", train_image)"
   ]
  },
  {
   "cell_type": "markdown",
   "metadata": {},
   "source": [
    "### Определние гладкости, выпуклости, количества вершин"
   ]
  },
  {
   "cell_type": "code",
   "execution_count": 1281,
   "metadata": {},
   "outputs": [],
   "source": [
    "def smooth(contours):\n",
    "    answer_list = []\n",
    "    for cnt in contours:\n",
    "        max_angle = 3.14\n",
    "        epsilon = 0.01*cv2.arcLength(cnt,True)\n",
    "        approx = cv2.approxPolyDP(cnt,epsilon,True)\n",
    "        app = approx.reshape((1, -1, 2))[0]\n",
    "        for a in app:\n",
    "            for b in app:\n",
    "                if a[0]!=b[0] and a[1]!=b[1]:\n",
    "                    m1, m2 = np.sqrt(a[0]**2 + a[1]**2), np.sqrt(b[0]**2 + b[1]**2)\n",
    "                    angl = np.arccos((a[0]*b[0] + a[1]*b[1]) / (m1 * m2))\n",
    "                    if angl > max_angle:\n",
    "                        max_angle = angl\n",
    "        answer_list.append(len(approx) > 9 and max_angle > 0.1)\n",
    "    return answer_list"
   ]
  },
  {
   "cell_type": "code",
   "execution_count": 1282,
   "metadata": {},
   "outputs": [],
   "source": [
    "def convex(contours):\n",
    "    answer1_list, answer_dict = [], {True: 'C', False: ''}\n",
    "    for cnt in contours:\n",
    "        epsilon = 0.02*cv2.arcLength(cnt,True)\n",
    "        approx = cv2.approxPolyDP(cnt,epsilon,True)\n",
    "        answer1_list.append(answer_dict[cv2.isContourConvex(approx)])\n",
    "    return answer1_list"
   ]
  },
  {
   "cell_type": "code",
   "execution_count": 1283,
   "metadata": {},
   "outputs": [],
   "source": [
    "def numbers(contours):\n",
    "    answer2_list = []\n",
    "    for cnt in contours:\n",
    "        epsilon = 0.02*cv2.arcLength(cnt,True)\n",
    "        approx = cv2.approxPolyDP(cnt,epsilon,True)\n",
    "        answer2_list.append(str(len(approx)))\n",
    "    return answer2_list"
   ]
  },
  {
   "cell_type": "code",
   "execution_count": 1410,
   "metadata": {},
   "outputs": [
    {
     "data": {
      "text/plain": [
       "True"
      ]
     },
     "execution_count": 1410,
     "metadata": {},
     "output_type": "execute_result"
    }
   ],
   "source": [
    "train_image = cv2.imread(images_dir + 'IMG_7.jpg')\n",
    "contours = find_figures_contours(image_processing(images_dir + 'IMG_7.jpg'))\n",
    "cv2.drawContours(train_image, contours,-1,(0,255,0),3)\n",
    "cv2.imwrite(\"/Users/ivandemyanov/Desktop/new.jpg\", train_image)"
   ]
  },
  {
   "cell_type": "markdown",
   "metadata": {},
   "source": [
    "### Размтека"
   ]
  },
  {
   "cell_type": "code",
   "execution_count": 1296,
   "metadata": {},
   "outputs": [],
   "source": [
    "def markup(contours, train_image):\n",
    "    lst1, lst2, lst3 = smooth(contours), convex(contours), numbers(contours)\n",
    "    for i in range(len(contours)):\n",
    "        M = cv2.moments(contours[i])\n",
    "        cX = int(M[\"m10\"] / M[\"m00\"])\n",
    "        cY = int(M[\"m01\"] / M[\"m00\"])\n",
    "        org = cX, cY\n",
    "        color = (0, 0, 255)\n",
    "        thickness = 2\n",
    "\n",
    "        if lst1[i]:\n",
    "            train_image = cv2.putText(train_image, 'S', org, cv2.FONT_HERSHEY_SIMPLEX,\n",
    "                                     1, color, thickness, cv2.LINE_AA)\n",
    "        else:\n",
    "            train_image = cv2.putText(train_image, 'P' + lst3[i] + lst2[i], org, cv2.FONT_HERSHEY_SIMPLEX,\n",
    "                                     1, color, thickness, cv2.LINE_AA)\n",
    "    return train_image"
   ]
  },
  {
   "cell_type": "code",
   "execution_count": 1411,
   "metadata": {},
   "outputs": [
    {
     "data": {
      "text/plain": [
       "True"
      ]
     },
     "execution_count": 1411,
     "metadata": {},
     "output_type": "execute_result"
    }
   ],
   "source": [
    "cv2.imwrite(\"/Users/ivandemyanov/Desktop/f4.jpg\", markup(contours, train_image))"
   ]
  },
  {
   "cell_type": "markdown",
   "metadata": {},
   "source": [
    "### Предобработка изображения для уровня эксперт"
   ]
  },
  {
   "cell_type": "code",
   "execution_count": 1382,
   "metadata": {},
   "outputs": [],
   "source": [
    "def expert_image_processing(image_path):\n",
    "    \n",
    "    train_image = cv2.imread(image_path)  \n",
    "    hsv = cv2.cvtColor(train_image, cv2.COLOR_BGR2HSV) \n",
    "    max_value = 255\n",
    "    max_value_H = 130\n",
    "    low_H = 80\n",
    "    low_S = 0\n",
    "    low_V = 0\n",
    "    high_H = max_value_H\n",
    "    high_S = max_value\n",
    "    high_V = max_value\n",
    "    img_g = cv2.inRange(hsv, (low_H, low_S, low_V), (high_H, high_S, high_V))\n",
    "    \n",
    "    for i in range(3):\n",
    "        hsv[..., i] *= img_g    \n",
    "    res = cv2.cvtColor(hsv, cv2.IMREAD_GRAYSCALE)[..., 1]\n",
    "    for i in range(3, 4):\n",
    "        res += cv2.cvtColor(hsv, cv2.IMREAD_GRAYSCALE)[..., i]\n",
    "\n",
    "    norm_img= cv2.normalize(res, None, alpha=0, beta=255, norm_type=cv2.NORM_MINMAX, dtype=cv2.CV_8UC1)\n",
    "    canny = cv2.Canny(norm_img,80,135)\n",
    "    \n",
    "    kernel = np.ones((3,3))\n",
    "    dilated = cv2.dilate(canny, kernel) \n",
    "    closed = cv2.morphologyEx(dilated, cv2.MORPH_CLOSE, kernel)\n",
    "    \n",
    "    arr = closed > 0\n",
    "    cleaned = morphology.remove_small_objects(arr, min_size=100)\n",
    "    cleaned = morphology.remove_small_holes(cleaned, 100)\n",
    "    \n",
    "    return closed"
   ]
  },
  {
   "cell_type": "code",
   "execution_count": 1412,
   "metadata": {},
   "outputs": [
    {
     "data": {
      "text/plain": [
       "True"
      ]
     },
     "execution_count": 1412,
     "metadata": {},
     "output_type": "execute_result"
    }
   ],
   "source": [
    "train_image = cv2.imread(images_dir + 'IMG_10.jpg')\n",
    "contours = find_figures_contours(expert_image_processing(images_dir + 'IMG_10.jpg'))\n",
    "cv2.imwrite(\"/Users/ivandemyanov/Desktop/f5.jpg\", markup(contours, train_image))"
   ]
  },
  {
   "cell_type": "code",
   "execution_count": 1397,
   "metadata": {},
   "outputs": [
    {
     "data": {
      "text/plain": [
       "True"
      ]
     },
     "execution_count": 1397,
     "metadata": {},
     "output_type": "execute_result"
    }
   ],
   "source": [
    "train_image = cv2.imread(images_dir + 'IMG_1.jpg')\n",
    "cv2.imwrite(\"/Users/ivandemyanov/Desktop/new.jpg\", train_image)"
   ]
  }
 ],
 "metadata": {
  "colab": {
   "collapsed_sections": [],
   "name": "homework-practice-08-random-features.ipynb",
   "provenance": []
  },
  "kernelspec": {
   "display_name": "Python 3",
   "language": "python",
   "name": "python3"
  },
  "language_info": {
   "codemirror_mode": {
    "name": "ipython",
    "version": 3
   },
   "file_extension": ".py",
   "mimetype": "text/x-python",
   "name": "python",
   "nbconvert_exporter": "python",
   "pygments_lexer": "ipython3",
   "version": "3.8.3"
  }
 },
 "nbformat": 4,
 "nbformat_minor": 4
}
